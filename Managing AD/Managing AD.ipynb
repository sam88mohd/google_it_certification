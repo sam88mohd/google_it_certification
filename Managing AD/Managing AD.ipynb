{
 "cells": [
  {
   "cell_type": "markdown",
   "id": "0e57ce50",
   "metadata": {},
   "source": [
    "# Managing AD\n",
    "- when AD is 1st set up, it will contained default user account, administator and several user groups\n",
    "\n",
    "## Default groups:\n",
    "1. Domain admins\n",
    "    - only administrator account in this group\n",
    "2. Enterprise admins\n",
    "    - only administrator account un this group. Only be use on rare occasion. When want to make migration, update new version.\n",
    "3. Domain users\n",
    "4. Domain computers\n",
    "    - add computers in it except DC\n",
    "5. Domain Controller\n",
    "    - Contain all domain controller"
   ]
  },
  {
   "cell_type": "markdown",
   "id": "ef884267",
   "metadata": {},
   "source": [
    "- SAM (security account manager) - a db in windows that stores username and password"
   ]
  },
  {
   "cell_type": "markdown",
   "id": "958c48a7",
   "metadata": {},
   "source": [
    "## Group Policy Object (GPO) // makes changes to windows registery\n",
    "- GPO can contain computer configuration, user configuration or both\n",
    "### Computer configuration \n",
    "- configuration where it is applied when computer start  \n",
    "### User configuration\n",
    "- configuration where it is applied when user login\n",
    "### policies\n",
    "- settings that reapplied every 90minutes(default) and aren't meant to be chnaged even by the local admin.\n",
    "### Group policy preferences\n",
    "- settings that, in many cases, are meant to be a template for settings. can be change by local admin and not will be overwrite.\n",
    "### GPMC (Group Policy Management Console)\n",
    "#### Group policy objects\n",
    "- contain GPO\n",
    "#### WMI filters\n",
    "- contain GPO for specific computer by filtering WMI\n",
    "#### Group policy modelling \n",
    "- test feature GPO to find out the groups that is affected before making changes\n",
    "#### Group policy Results\n",
    "- test GPO results wehter it successful to the group assigned"
   ]
  },
  {
   "cell_type": "markdown",
   "id": "deef4df1",
   "metadata": {},
   "source": []
  }
 ],
 "metadata": {
  "kernelspec": {
   "display_name": "Python 3 (ipykernel)",
   "language": "python",
   "name": "python3"
  },
  "language_info": {
   "codemirror_mode": {
    "name": "ipython",
    "version": 3
   },
   "file_extension": ".py",
   "mimetype": "text/x-python",
   "name": "python",
   "nbconvert_exporter": "python",
   "pygments_lexer": "ipython3",
   "version": "3.10.10"
  }
 },
 "nbformat": 4,
 "nbformat_minor": 5
}
