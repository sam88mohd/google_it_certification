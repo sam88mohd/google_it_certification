{
 "cells": [
  {
   "cell_type": "markdown",
   "id": "ccd4ed57",
   "metadata": {},
   "source": [
    "## windows proccess\n",
    "- `Get-Process -Name \"totally_not_malicious\"`\n",
    "- `taskkill /F /PID [PROCESS ID]`"
   ]
  },
  {
   "cell_type": "markdown",
   "id": "c2b27504",
   "metadata": {},
   "source": [
    "## linux proccess\n",
    "- `ps -aux | grep \"totally_not_malicious\"`\n",
    "- `sudo kill [PROCESS ID]`"
   ]
  },
  {
   "cell_type": "markdown",
   "id": "f4fdcff0",
   "metadata": {},
   "source": [
    "# Remote Access\n",
    "- `scp <source> <sd@192.168.12.1:>`\n",
    "- `Pscp` Putty secure send file"
   ]
  },
  {
   "cell_type": "markdown",
   "id": "14c33780",
   "metadata": {},
   "source": [
    "## Event Viewer\n",
    "### windows\n",
    "- eventvwr.msc\n",
    "- with custom view - can create filter\n",
    "### linux\n",
    "- log stored in var/log\n",
    "    - auth.log \n",
    "    - kern.log - bootup error\n",
    "    - dmesg - system startup log\n",
    "    - syslog - log everything"
   ]
  },
  {
   "cell_type": "code",
   "execution_count": null,
   "id": "560a0876",
   "metadata": {},
   "outputs": [],
   "source": []
  }
 ],
 "metadata": {
  "kernelspec": {
   "display_name": "Python 3 (ipykernel)",
   "language": "python",
   "name": "python3"
  },
  "language_info": {
   "codemirror_mode": {
    "name": "ipython",
    "version": 3
   },
   "file_extension": ".py",
   "mimetype": "text/x-python",
   "name": "python",
   "nbconvert_exporter": "python",
   "pygments_lexer": "ipython3",
   "version": "3.10.9"
  }
 },
 "nbformat": 4,
 "nbformat_minor": 5
}
